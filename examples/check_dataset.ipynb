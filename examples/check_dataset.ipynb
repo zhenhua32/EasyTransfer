{
 "cells": [
  {
   "cell_type": "code",
   "execution_count": 5,
   "metadata": {},
   "outputs": [
    {
     "data": {
      "text/plain": [
       "'./eztransfer_modelzoo'"
      ]
     },
     "execution_count": 5,
     "metadata": {},
     "output_type": "execute_result"
    }
   ],
   "source": [
    "# 为环境变量做好准备\n",
    "import os\n",
    "from io import StringIO\n",
    "from dotenv import load_dotenv\n",
    "\n",
    "env_text = \"\"\"\n",
    "HOME=./eztransfer_modelzoo\n",
    "\"\"\"\n",
    "\n",
    "load_dotenv(stream=StringIO(env_text), override=True, verbose=True)\n",
    "os.environ.get(\"HOME\")"
   ]
  },
  {
   "cell_type": "code",
   "execution_count": 6,
   "metadata": {},
   "outputs": [
    {
     "data": {
      "text/plain": [
       "['d:\\\\code\\\\github\\\\EasyTransfer',\n",
       " 'd:\\\\code\\\\github\\\\EasyTransfer',\n",
       " 'd:\\\\code\\\\github\\\\EasyTransfer',\n",
       " 'd:\\\\code\\\\github\\\\EasyTransfer\\\\examples',\n",
       " 'c:\\\\Users\\\\tzh\\\\.vscode\\\\extensions\\\\ms-toolsai.jupyter-2021.11.1001550889\\\\pythonFiles\\\\vscode_datascience_helpers',\n",
       " 'c:\\\\Users\\\\tzh\\\\.vscode\\\\extensions\\\\ms-toolsai.jupyter-2021.11.1001550889\\\\pythonFiles',\n",
       " 'c:\\\\Users\\\\tzh\\\\.vscode\\\\extensions\\\\ms-toolsai.jupyter-2021.11.1001550889\\\\pythonFiles\\\\lib\\\\python',\n",
       " 'C:\\\\Anaconda3\\\\envs\\\\tf2\\\\python39.zip',\n",
       " 'C:\\\\Anaconda3\\\\envs\\\\tf2\\\\DLLs',\n",
       " 'C:\\\\Anaconda3\\\\envs\\\\tf2\\\\lib',\n",
       " 'C:\\\\Anaconda3\\\\envs\\\\tf2',\n",
       " '',\n",
       " 'C:\\\\Anaconda3\\\\envs\\\\tf2\\\\lib\\\\site-packages',\n",
       " 'C:\\\\Anaconda3\\\\envs\\\\tf2\\\\lib\\\\site-packages\\\\win32',\n",
       " 'C:\\\\Anaconda3\\\\envs\\\\tf2\\\\lib\\\\site-packages\\\\win32\\\\lib',\n",
       " 'C:\\\\Anaconda3\\\\envs\\\\tf2\\\\lib\\\\site-packages\\\\Pythonwin']"
      ]
     },
     "execution_count": 6,
     "metadata": {},
     "output_type": "execute_result"
    }
   ],
   "source": [
    "# 让本地的 easytransfer 的优先级更高\n",
    "import sys\n",
    "sys.path.insert(0, os.path.abspath('../'))\n",
    "sys.path"
   ]
  },
  {
   "cell_type": "code",
   "execution_count": 7,
   "metadata": {},
   "outputs": [
    {
     "name": "stdout",
     "output_type": "stream",
     "text": [
      "INFO:tensorflow:*********** tf.__version__ is 2.7.0 ******\n"
     ]
    }
   ],
   "source": [
    "from easytransfer.datasets import CSVReader"
   ]
  },
  {
   "cell_type": "code",
   "execution_count": 10,
   "metadata": {},
   "outputs": [
    {
     "name": "stdout",
     "output_type": "stream",
     "text": [
      "INFO:tensorflow:num_parallel_batches 1\n",
      "INFO:tensorflow:shuffle_buffer_size None\n",
      "INFO:tensorflow:prefetch_buffer_size 1\n",
      "INFO:tensorflow:batch_size 4\n",
      "INFO:tensorflow:distribution_strategy None\n",
      "INFO:tensorflow:num_micro_batches 1\n",
      "INFO:tensorflow:input_schema label:str:1,content:str:1\n",
      "INFO:tensorflow:D:/code/py_nlp_classify/data/small/train.csv, total number of training examples 1000\n"
     ]
    },
    {
     "data": {
      "text/plain": [
       "<easytransfer.datasets.csv_reader.CSVReader at 0x28ea0d49af0>"
      ]
     },
     "execution_count": 10,
     "metadata": {},
     "output_type": "execute_result"
    }
   ],
   "source": [
    "reader = CSVReader(\"D:/code/py_nlp_classify/data/small/train.csv\", is_training=True, input_schema=\"label:str:1,content:str:1\", batch_size=4)\n",
    "reader"
   ]
  },
  {
   "cell_type": "code",
   "execution_count": 11,
   "metadata": {},
   "outputs": [
    {
     "name": "stdout",
     "output_type": "stream",
     "text": [
      "INFO:tensorflow:Random shuffle on the whole 1000 training examples\n"
     ]
    },
    {
     "data": {
      "text/plain": [
       "<PrefetchDataset shapes: {label: (None,), content: (None,)}, types: {label: tf.string, content: tf.string}>"
      ]
     },
     "execution_count": 11,
     "metadata": {},
     "output_type": "execute_result"
    }
   ],
   "source": [
    "dataset = reader.get_dataset()\n",
    "dataset"
   ]
  },
  {
   "cell_type": "code",
   "execution_count": 12,
   "metadata": {},
   "outputs": [
    {
     "data": {
      "text/plain": [
       "{'label': <tf.Tensor: shape=(4,), dtype=string, numpy=array([b'game', b'game', b'finance', b'culture'], dtype=object)>,\n",
       " 'content': <tf.Tensor: shape=(4,), dtype=string, numpy=\n",
       " array([b'\\xe5\\x85\\xa8\\xe6\\xb0\\x91k\\xe6\\xad\\x8c\\xe5\\xbd\\x95\\xe9\\x9f\\xb3\\xe6\\x97\\xb6\\xe4\\xbc\\x9a\\xe5\\x87\\xba\\xe7\\x8e\\xb0\\xe5\\x8e\\x9f\\xe5\\xa3\\xb0\\xe5\\xba\\x94\\xe8\\xaf\\xa5\\xe6\\x80\\x8e\\xe4\\xb9\\x88\\xe5\\x8a\\x9e\\xef\\xbc\\x9f',\n",
       "        b'\\xe7\\x82\\x89\\xe7\\x9f\\xb3101\\xe5\\xa5\\xb3\\xe5\\x9b\\xa2\\xef\\xbc\\x8c\\xe4\\xbd\\xa0\\xe6\\x9c\\x80\\xe6\\x83\\xb3pick\\xe8\\xb0\\x81\\xef\\xbc\\x9f \\xe7\\x82\\x89\\xe7\\x9f\\xb3\\xe4\\xbc\\xa0\\xe8\\xaf\\xb4,\\xe5\\xa5\\xb3\\xe5\\x9b\\xa2,\\xe7\\x82\\x89\\xe7\\x9f\\xb3,\\xe7\\x82\\x89\\xe7\\x9f\\xb3101\\xe5\\xa5\\xb3\\xe5\\x9b\\xa2',\n",
       "        b'LOL:05.10\\xe5\\x89\\x8d\\xe7\\x9e\\xbb\\xef\\xbc\\x9a\\xe8\\xb5\\xb0\\xe5\\x8a\\xbf\\xe5\\xb0\\xbd\\xe5\\x9c\\xa8\\xe6\\x8e\\x8c\\xe6\\x8f\\xa1 \\xe9\\x9d\\x99\\xe7\\xad\\x89\\xe9\\x80\\xbb\\xe8\\xbe\\x91\\xe5\\x85\\x91\\xe7\\x8e\\xb0\\xef\\xbc\\x81 \\xe7\\xa7\\x91\\xe4\\xbc\\xa6\\xe8\\x8d\\xaf\\xe4\\xb8\\x9a,\\xe5\\x8d\\x8e\\xe6\\xb5\\xb7\\xe8\\x8d\\xaf\\xe4\\xb8\\x9a,\\xe6\\xb0\\xb8\\xe5\\x92\\x8c\\xe6\\x99\\xba\\xe6\\x8e\\xa7,\\xe8\\xbf\\x91\\xe7\\xab\\xaf\\xe6\\xac\\xa1\\xe6\\x96\\xb0,\\xe6\\x98\\x9f\\xe6\\x98\\x9f\\xe7\\xa7\\x91\\xe6\\x8a\\x80,\\xe9\\xab\\x98\\xe6\\x96\\xaf\\xe8\\xb4\\x9d\\xe5\\xb0\\x94,\\xe7\\x99\\xbd\\xe4\\xba\\x91\\xe5\\xb1\\xb1,\\xe6\\xb2\\x99\\xe6\\xb2\\xb3\\xe8\\x82\\xa1\\xe4\\xbb\\xbd,\\xe9\\xa1\\xba\\xe9\\x91\\xab\\xe5\\x86\\x9c\\xe4\\xb8\\x9a,\\xe5\\x8c\\xbb\\xe8\\x8d\\xaf',\n",
       "        b'\\xe5\\xb0\\xb1\\xe6\\x98\\xaf\\xe8\\xbf\\x99\\xe4\\xb9\\x88\\xe7\\xa7\\x80\\xe7\\x9a\\x84\\xe5\\x88\\x86\\xe6\\x9e\\x90\\xef\\xbc\\x8c2017\\xe5\\xb9\\xb4\\xe5\\x85\\xa8\\xe5\\x9b\\xbd1\\xe5\\x8d\\xb7\\xef\\xbc\\x88\\xe7\\x90\\x86\\xe7\\xbb\\xbc\\xe5\\x8c\\x96\\xe5\\xad\\xa6\\xe9\\x83\\xa8\\xe5\\x88\\x86\\xef\\xbc\\x89 \\xe5\\xb9\\xb3\\xe8\\xa1\\xa1\\xe5\\xb8\\xb8\\xe6\\x95\\xb0,\\xe9\\x80\\x89\\xe6\\x8b\\xa9\\xe9\\xa2\\x98,\\xe5\\x8c\\x96\\xe5\\xad\\xa6,\\xe5\\x85\\x83\\xe7\\xb4\\xa0\\xe5\\x91\\xa8\\xe6\\x9c\\x9f\\xe8\\xa1\\xa8,\\xe7\\x94\\xb5\\xe8\\xa7\\xa3\\xe6\\xb1\\xa0'],\n",
       "       dtype=object)>}"
      ]
     },
     "execution_count": 12,
     "metadata": {},
     "output_type": "execute_result"
    }
   ],
   "source": [
    "next(iter(dataset))"
   ]
  },
  {
   "cell_type": "code",
   "execution_count": 13,
   "metadata": {},
   "outputs": [
    {
     "data": {
      "text/plain": [
       "dict"
      ]
     },
     "execution_count": 13,
     "metadata": {},
     "output_type": "execute_result"
    }
   ],
   "source": [
    "type(next(iter(dataset)))"
   ]
  },
  {
   "cell_type": "code",
   "execution_count": null,
   "metadata": {},
   "outputs": [],
   "source": []
  }
 ],
 "metadata": {
  "interpreter": {
   "hash": "2c369c7a0bd18095d69cc6bcfdfaf93c8e305f9651a20b05d28ea042855c27d0"
  },
  "kernelspec": {
   "display_name": "Python 3.9.7 64-bit ('tf2': conda)",
   "language": "python",
   "name": "python3"
  },
  "language_info": {
   "codemirror_mode": {
    "name": "ipython",
    "version": 3
   },
   "file_extension": ".py",
   "mimetype": "text/x-python",
   "name": "python",
   "nbconvert_exporter": "python",
   "pygments_lexer": "ipython3",
   "version": "3.9.7"
  },
  "orig_nbformat": 4
 },
 "nbformat": 4,
 "nbformat_minor": 2
}
